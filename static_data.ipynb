{
 "cells": [
  {
   "cell_type": "markdown",
   "metadata": {},
   "source": [
    "# Advanced Financial Market Analysis (Static): Navigating Stock Trends with Bollinger Bands and VWAP\n",
    "\n",
    "> ## Overview\n",
    "\n",
    "> This notebook embarks on an advanced journey into financial market analysis, employing statistical tools like Bollinger Bands and the Volume-Weighted Average Price (VWAP) to scrutinize stock data. Aimed at traders and analysts, it offers a meticulous exploration of stock behavior over 1-minute and 20-minute intervals, providing a robust framework for understanding market dynamics. Through calculated metrics, insightful visualizations, and a proactive alert system, this guide serves as an invaluable resource for crafting data-driven trading strategies."
   ]
  },
  {
   "cell_type": "code",
   "execution_count": 1,
   "metadata": {},
   "outputs": [],
   "source": [
    "%%capture -- no-display\n",
    "%pip install pathway"
   ]
  },
  {
   "cell_type": "markdown",
   "metadata": {},
   "source": [
    "### Import Libraries\n",
    "\n",
    "The first block of code imports necessary libraries for the script. \n",
    "\n",
    "- `datetime`: Provides classes for manipulating dates and times.\n",
    "- `requests`: Allows sending HTTP requests to fetch data from the web.\n",
    "- `pandas`: Offers data structures and operations for manipulating numerical tables and time series.\n",
    "- `bokeh.models` and `bokeh.plotting`: Used for creating interactive plots and visualizations.\n",
    "- `panel`: Provides tools for creating web apps and dashboards.\n",
    "- `pathway` (aliased as `pw`): Custom library, likely for data manipulation or pathway analysis.\n",
    "- `polygon`: Provides a RESTClient, possibly for accessing financial data.\n"
   ]
  },
  {
   "cell_type": "code",
   "execution_count": 2,
   "metadata": {},
   "outputs": [
    {
     "data": {
      "application/javascript": "(function(root) {\n  function now() {\n    return new Date();\n  }\n\n  var force = true;\n  var py_version = '3.3.4'.replace('rc', '-rc.').replace('.dev', '-dev.');\n  var reloading = false;\n  var Bokeh = root.Bokeh;\n\n  if (typeof (root._bokeh_timeout) === \"undefined\" || force) {\n    root._bokeh_timeout = Date.now() + 5000;\n    root._bokeh_failed_load = false;\n  }\n\n  function run_callbacks() {\n    try {\n      root._bokeh_onload_callbacks.forEach(function(callback) {\n        if (callback != null)\n          callback();\n      });\n    } finally {\n      delete root._bokeh_onload_callbacks;\n    }\n    console.debug(\"Bokeh: all callbacks have finished\");\n  }\n\n  function load_libs(css_urls, js_urls, js_modules, js_exports, callback) {\n    if (css_urls == null) css_urls = [];\n    if (js_urls == null) js_urls = [];\n    if (js_modules == null) js_modules = [];\n    if (js_exports == null) js_exports = {};\n\n    root._bokeh_onload_callbacks.push(callback);\n\n    if (root._bokeh_is_loading > 0) {\n      console.debug(\"Bokeh: BokehJS is being loaded, scheduling callback at\", now());\n      return null;\n    }\n    if (js_urls.length === 0 && js_modules.length === 0 && Object.keys(js_exports).length === 0) {\n      run_callbacks();\n      return null;\n    }\n    if (!reloading) {\n      console.debug(\"Bokeh: BokehJS not loaded, scheduling load and callback at\", now());\n    }\n\n    function on_load() {\n      root._bokeh_is_loading--;\n      if (root._bokeh_is_loading === 0) {\n        console.debug(\"Bokeh: all BokehJS libraries/stylesheets loaded\");\n        run_callbacks()\n      }\n    }\n    window._bokeh_on_load = on_load\n\n    function on_error() {\n      console.error(\"failed to load \" + url);\n    }\n\n    var skip = [];\n    if (window.requirejs) {\n      window.requirejs.config({'packages': {}, 'paths': {'tabulator': 'https://cdn.jsdelivr.net/npm/tabulator-tables@5.5.0/dist/js/tabulator.min', 'moment': 'https://cdn.jsdelivr.net/npm/luxon/build/global/luxon.min', 'jspanel': 'https://cdn.jsdelivr.net/npm/jspanel4@4.12.0/dist/jspanel', 'jspanel-modal': 'https://cdn.jsdelivr.net/npm/jspanel4@4.12.0/dist/extensions/modal/jspanel.modal', 'jspanel-tooltip': 'https://cdn.jsdelivr.net/npm/jspanel4@4.12.0/dist/extensions/tooltip/jspanel.tooltip', 'jspanel-hint': 'https://cdn.jsdelivr.net/npm/jspanel4@4.12.0/dist/extensions/hint/jspanel.hint', 'jspanel-layout': 'https://cdn.jsdelivr.net/npm/jspanel4@4.12.0/dist/extensions/layout/jspanel.layout', 'jspanel-contextmenu': 'https://cdn.jsdelivr.net/npm/jspanel4@4.12.0/dist/extensions/contextmenu/jspanel.contextmenu', 'jspanel-dock': 'https://cdn.jsdelivr.net/npm/jspanel4@4.12.0/dist/extensions/dock/jspanel.dock', 'gridstack': 'https://cdn.jsdelivr.net/npm/gridstack@7.2.3/dist/gridstack-all', 'notyf': 'https://cdn.jsdelivr.net/npm/notyf@3/notyf.min'}, 'shim': {'jspanel': {'exports': 'jsPanel'}, 'gridstack': {'exports': 'GridStack'}}});\n      require([\"tabulator\"], function(Tabulator) {\n\twindow.Tabulator = Tabulator\n\ton_load()\n      })\n      require([\"moment\"], function(moment) {\n\twindow.moment = moment\n\ton_load()\n      })\n      require([\"jspanel\"], function(jsPanel) {\n\twindow.jsPanel = jsPanel\n\ton_load()\n      })\n      require([\"jspanel-modal\"], function() {\n\ton_load()\n      })\n      require([\"jspanel-tooltip\"], function() {\n\ton_load()\n      })\n      require([\"jspanel-hint\"], function() {\n\ton_load()\n      })\n      require([\"jspanel-layout\"], function() {\n\ton_load()\n      })\n      require([\"jspanel-contextmenu\"], function() {\n\ton_load()\n      })\n      require([\"jspanel-dock\"], function() {\n\ton_load()\n      })\n      require([\"gridstack\"], function(GridStack) {\n\twindow.GridStack = GridStack\n\ton_load()\n      })\n      require([\"notyf\"], function() {\n\ton_load()\n      })\n      root._bokeh_is_loading = css_urls.length + 11;\n    } else {\n      root._bokeh_is_loading = css_urls.length + js_urls.length + js_modules.length + Object.keys(js_exports).length;\n    }\n\n    var existing_stylesheets = []\n    var links = document.getElementsByTagName('link')\n    for (var i = 0; i < links.length; i++) {\n      var link = links[i]\n      if (link.href != null) {\n\texisting_stylesheets.push(link.href)\n      }\n    }\n    for (var i = 0; i < css_urls.length; i++) {\n      var url = css_urls[i];\n      if (existing_stylesheets.indexOf(url) !== -1) {\n\ton_load()\n\tcontinue;\n      }\n      const element = document.createElement(\"link\");\n      element.onload = on_load;\n      element.onerror = on_error;\n      element.rel = \"stylesheet\";\n      element.type = \"text/css\";\n      element.href = url;\n      console.debug(\"Bokeh: injecting link tag for BokehJS stylesheet: \", url);\n      document.body.appendChild(element);\n    }    if (((window['Tabulator'] !== undefined) && (!(window['Tabulator'] instanceof HTMLElement))) || window.requirejs) {\n      var urls = ['https://cdn.holoviz.org/panel/1.3.8/dist/bundled/datatabulator/tabulator-tables@5.5.0/dist/js/tabulator.min.js'];\n      for (var i = 0; i < urls.length; i++) {\n        skip.push(urls[i])\n      }\n    }    if (((window['moment'] !== undefined) && (!(window['moment'] instanceof HTMLElement))) || window.requirejs) {\n      var urls = ['https://cdn.holoviz.org/panel/1.3.8/dist/bundled/datatabulator/luxon/build/global/luxon.min.js'];\n      for (var i = 0; i < urls.length; i++) {\n        skip.push(urls[i])\n      }\n    }    if (((window['jsPanel'] !== undefined) && (!(window['jsPanel'] instanceof HTMLElement))) || window.requirejs) {\n      var urls = ['https://cdn.holoviz.org/panel/1.3.8/dist/bundled/floatpanel/jspanel4@4.12.0/dist/jspanel.js', 'https://cdn.holoviz.org/panel/1.3.8/dist/bundled/floatpanel/jspanel4@4.12.0/dist/extensions/modal/jspanel.modal.js', 'https://cdn.holoviz.org/panel/1.3.8/dist/bundled/floatpanel/jspanel4@4.12.0/dist/extensions/tooltip/jspanel.tooltip.js', 'https://cdn.holoviz.org/panel/1.3.8/dist/bundled/floatpanel/jspanel4@4.12.0/dist/extensions/hint/jspanel.hint.js', 'https://cdn.holoviz.org/panel/1.3.8/dist/bundled/floatpanel/jspanel4@4.12.0/dist/extensions/layout/jspanel.layout.js', 'https://cdn.holoviz.org/panel/1.3.8/dist/bundled/floatpanel/jspanel4@4.12.0/dist/extensions/contextmenu/jspanel.contextmenu.js', 'https://cdn.holoviz.org/panel/1.3.8/dist/bundled/floatpanel/jspanel4@4.12.0/dist/extensions/dock/jspanel.dock.js'];\n      for (var i = 0; i < urls.length; i++) {\n        skip.push(urls[i])\n      }\n    }    if (((window['GridStack'] !== undefined) && (!(window['GridStack'] instanceof HTMLElement))) || window.requirejs) {\n      var urls = ['https://cdn.holoviz.org/panel/1.3.8/dist/bundled/gridstack/gridstack@7.2.3/dist/gridstack-all.js'];\n      for (var i = 0; i < urls.length; i++) {\n        skip.push(urls[i])\n      }\n    }    if (((window['Notyf'] !== undefined) && (!(window['Notyf'] instanceof HTMLElement))) || window.requirejs) {\n      var urls = ['https://cdn.holoviz.org/panel/1.3.8/dist/bundled/notificationarea/notyf@3/notyf.min.js'];\n      for (var i = 0; i < urls.length; i++) {\n        skip.push(urls[i])\n      }\n    }    var existing_scripts = []\n    var scripts = document.getElementsByTagName('script')\n    for (var i = 0; i < scripts.length; i++) {\n      var script = scripts[i]\n      if (script.src != null) {\n\texisting_scripts.push(script.src)\n      }\n    }\n    for (var i = 0; i < js_urls.length; i++) {\n      var url = js_urls[i];\n      if (skip.indexOf(url) !== -1 || existing_scripts.indexOf(url) !== -1) {\n\tif (!window.requirejs) {\n\t  on_load();\n\t}\n\tcontinue;\n      }\n      var element = document.createElement('script');\n      element.onload = on_load;\n      element.onerror = on_error;\n      element.async = false;\n      element.src = url;\n      console.debug(\"Bokeh: injecting script tag for BokehJS library: \", url);\n      document.head.appendChild(element);\n    }\n    for (var i = 0; i < js_modules.length; i++) {\n      var url = js_modules[i];\n      if (skip.indexOf(url) !== -1 || existing_scripts.indexOf(url) !== -1) {\n\tif (!window.requirejs) {\n\t  on_load();\n\t}\n\tcontinue;\n      }\n      var element = document.createElement('script');\n      element.onload = on_load;\n      element.onerror = on_error;\n      element.async = false;\n      element.src = url;\n      element.type = \"module\";\n      console.debug(\"Bokeh: injecting script tag for BokehJS library: \", url);\n      document.head.appendChild(element);\n    }\n    for (const name in js_exports) {\n      var url = js_exports[name];\n      if (skip.indexOf(url) >= 0 || root[name] != null) {\n\tif (!window.requirejs) {\n\t  on_load();\n\t}\n\tcontinue;\n      }\n      var element = document.createElement('script');\n      element.onerror = on_error;\n      element.async = false;\n      element.type = \"module\";\n      console.debug(\"Bokeh: injecting script tag for BokehJS library: \", url);\n      element.textContent = `\n      import ${name} from \"${url}\"\n      window.${name} = ${name}\n      window._bokeh_on_load()\n      `\n      document.head.appendChild(element);\n    }\n    if (!js_urls.length && !js_modules.length) {\n      on_load()\n    }\n  };\n\n  function inject_raw_css(css) {\n    const element = document.createElement(\"style\");\n    element.appendChild(document.createTextNode(css));\n    document.body.appendChild(element);\n  }\n\n  var js_urls = [\"https://cdn.holoviz.org/panel/1.3.8/dist/bundled/datatabulator/tabulator-tables@5.5.0/dist/js/tabulator.min.js\", \"https://cdn.holoviz.org/panel/1.3.8/dist/bundled/datatabulator/luxon/build/global/luxon.min.js\", \"https://cdn.bokeh.org/bokeh/release/bokeh-3.3.4.min.js\", \"https://cdn.bokeh.org/bokeh/release/bokeh-gl-3.3.4.min.js\", \"https://cdn.bokeh.org/bokeh/release/bokeh-widgets-3.3.4.min.js\", \"https://cdn.bokeh.org/bokeh/release/bokeh-tables-3.3.4.min.js\", \"https://cdn.holoviz.org/panel/1.3.8/dist/panel.min.js\"];\n  var js_modules = [];\n  var js_exports = {};\n  var css_urls = [\"https://cdn.holoviz.org/panel/1.3.8/dist/bundled/datatabulator/tabulator-tables@5.5.0/dist/css/tabulator_simple.min.css\"];\n  var inline_js = [    function(Bokeh) {\n      Bokeh.set_log_level(\"info\");\n    },\nfunction(Bokeh) {} // ensure no trailing comma for IE\n  ];\n\n  function run_inline_js() {\n    if ((root.Bokeh !== undefined) || (force === true)) {\n      for (var i = 0; i < inline_js.length; i++) {\n\ttry {\n          inline_js[i].call(root, root.Bokeh);\n\t} catch(e) {\n\t  if (!reloading) {\n\t    throw e;\n\t  }\n\t}\n      }\n      // Cache old bokeh versions\n      if (Bokeh != undefined && !reloading) {\n\tvar NewBokeh = root.Bokeh;\n\tif (Bokeh.versions === undefined) {\n\t  Bokeh.versions = new Map();\n\t}\n\tif (NewBokeh.version !== Bokeh.version) {\n\t  Bokeh.versions.set(NewBokeh.version, NewBokeh)\n\t}\n\troot.Bokeh = Bokeh;\n      }} else if (Date.now() < root._bokeh_timeout) {\n      setTimeout(run_inline_js, 100);\n    } else if (!root._bokeh_failed_load) {\n      console.log(\"Bokeh: BokehJS failed to load within specified timeout.\");\n      root._bokeh_failed_load = true;\n    }\n    root._bokeh_is_initializing = false\n  }\n\n  function load_or_wait() {\n    // Implement a backoff loop that tries to ensure we do not load multiple\n    // versions of Bokeh and its dependencies at the same time.\n    // In recent versions we use the root._bokeh_is_initializing flag\n    // to determine whether there is an ongoing attempt to initialize\n    // bokeh, however for backward compatibility we also try to ensure\n    // that we do not start loading a newer (Panel>=1.0 and Bokeh>3) version\n    // before older versions are fully initialized.\n    if (root._bokeh_is_initializing && Date.now() > root._bokeh_timeout) {\n      root._bokeh_is_initializing = false;\n      root._bokeh_onload_callbacks = undefined;\n      console.log(\"Bokeh: BokehJS was loaded multiple times but one version failed to initialize.\");\n      load_or_wait();\n    } else if (root._bokeh_is_initializing || (typeof root._bokeh_is_initializing === \"undefined\" && root._bokeh_onload_callbacks !== undefined)) {\n      setTimeout(load_or_wait, 100);\n    } else {\n      root._bokeh_is_initializing = true\n      root._bokeh_onload_callbacks = []\n      var bokeh_loaded = Bokeh != null && (Bokeh.version === py_version || (Bokeh.versions !== undefined && Bokeh.versions.has(py_version)));\n      if (!reloading && !bokeh_loaded) {\n\troot.Bokeh = undefined;\n      }\n      load_libs(css_urls, js_urls, js_modules, js_exports, function() {\n\tconsole.debug(\"Bokeh: BokehJS plotting callback run at\", now());\n\trun_inline_js();\n      });\n    }\n  }\n  // Give older versions of the autoload script a head-start to ensure\n  // they initialize before we start loading newer version.\n  setTimeout(load_or_wait, 100)\n}(window));",
      "application/vnd.holoviews_load.v0+json": ""
     },
     "metadata": {},
     "output_type": "display_data"
    },
    {
     "data": {
      "application/javascript": "\nif ((window.PyViz === undefined) || (window.PyViz instanceof HTMLElement)) {\n  window.PyViz = {comms: {}, comm_status:{}, kernels:{}, receivers: {}, plot_index: []}\n}\n\n\n    function JupyterCommManager() {\n    }\n\n    JupyterCommManager.prototype.register_target = function(plot_id, comm_id, msg_handler) {\n      if (window.comm_manager || ((window.Jupyter !== undefined) && (Jupyter.notebook.kernel != null))) {\n        var comm_manager = window.comm_manager || Jupyter.notebook.kernel.comm_manager;\n        comm_manager.register_target(comm_id, function(comm) {\n          comm.on_msg(msg_handler);\n        });\n      } else if ((plot_id in window.PyViz.kernels) && (window.PyViz.kernels[plot_id])) {\n        window.PyViz.kernels[plot_id].registerCommTarget(comm_id, function(comm) {\n          comm.onMsg = msg_handler;\n        });\n      } else if (typeof google != 'undefined' && google.colab.kernel != null) {\n        google.colab.kernel.comms.registerTarget(comm_id, (comm) => {\n          var messages = comm.messages[Symbol.asyncIterator]();\n          function processIteratorResult(result) {\n            var message = result.value;\n            console.log(message)\n            var content = {data: message.data, comm_id};\n            var buffers = []\n            for (var buffer of message.buffers || []) {\n              buffers.push(new DataView(buffer))\n            }\n            var metadata = message.metadata || {};\n            var msg = {content, buffers, metadata}\n            msg_handler(msg);\n            return messages.next().then(processIteratorResult);\n          }\n          return messages.next().then(processIteratorResult);\n        })\n      }\n    }\n\n    JupyterCommManager.prototype.get_client_comm = function(plot_id, comm_id, msg_handler) {\n      if (comm_id in window.PyViz.comms) {\n        return window.PyViz.comms[comm_id];\n      } else if (window.comm_manager || ((window.Jupyter !== undefined) && (Jupyter.notebook.kernel != null))) {\n        var comm_manager = window.comm_manager || Jupyter.notebook.kernel.comm_manager;\n        var comm = comm_manager.new_comm(comm_id, {}, {}, {}, comm_id);\n        if (msg_handler) {\n          comm.on_msg(msg_handler);\n        }\n      } else if ((plot_id in window.PyViz.kernels) && (window.PyViz.kernels[plot_id])) {\n        var comm = window.PyViz.kernels[plot_id].connectToComm(comm_id);\n        comm.open();\n        if (msg_handler) {\n          comm.onMsg = msg_handler;\n        }\n      } else if (typeof google != 'undefined' && google.colab.kernel != null) {\n        var comm_promise = google.colab.kernel.comms.open(comm_id)\n        comm_promise.then((comm) => {\n          window.PyViz.comms[comm_id] = comm;\n          if (msg_handler) {\n            var messages = comm.messages[Symbol.asyncIterator]();\n            function processIteratorResult(result) {\n              var message = result.value;\n              var content = {data: message.data};\n              var metadata = message.metadata || {comm_id};\n              var msg = {content, metadata}\n              msg_handler(msg);\n              return messages.next().then(processIteratorResult);\n            }\n            return messages.next().then(processIteratorResult);\n          }\n        }) \n        var sendClosure = (data, metadata, buffers, disposeOnDone) => {\n          return comm_promise.then((comm) => {\n            comm.send(data, metadata, buffers, disposeOnDone);\n          });\n        };\n        var comm = {\n          send: sendClosure\n        };\n      }\n      window.PyViz.comms[comm_id] = comm;\n      return comm;\n    }\n    window.PyViz.comm_manager = new JupyterCommManager();\n    \n\n\nvar JS_MIME_TYPE = 'application/javascript';\nvar HTML_MIME_TYPE = 'text/html';\nvar EXEC_MIME_TYPE = 'application/vnd.holoviews_exec.v0+json';\nvar CLASS_NAME = 'output';\n\n/**\n * Render data to the DOM node\n */\nfunction render(props, node) {\n  var div = document.createElement(\"div\");\n  var script = document.createElement(\"script\");\n  node.appendChild(div);\n  node.appendChild(script);\n}\n\n/**\n * Handle when a new output is added\n */\nfunction handle_add_output(event, handle) {\n  var output_area = handle.output_area;\n  var output = handle.output;\n  if ((output.data == undefined) || (!output.data.hasOwnProperty(EXEC_MIME_TYPE))) {\n    return\n  }\n  var id = output.metadata[EXEC_MIME_TYPE][\"id\"];\n  var toinsert = output_area.element.find(\".\" + CLASS_NAME.split(' ')[0]);\n  if (id !== undefined) {\n    var nchildren = toinsert.length;\n    var html_node = toinsert[nchildren-1].children[0];\n    html_node.innerHTML = output.data[HTML_MIME_TYPE];\n    var scripts = [];\n    var nodelist = html_node.querySelectorAll(\"script\");\n    for (var i in nodelist) {\n      if (nodelist.hasOwnProperty(i)) {\n        scripts.push(nodelist[i])\n      }\n    }\n\n    scripts.forEach( function (oldScript) {\n      var newScript = document.createElement(\"script\");\n      var attrs = [];\n      var nodemap = oldScript.attributes;\n      for (var j in nodemap) {\n        if (nodemap.hasOwnProperty(j)) {\n          attrs.push(nodemap[j])\n        }\n      }\n      attrs.forEach(function(attr) { newScript.setAttribute(attr.name, attr.value) });\n      newScript.appendChild(document.createTextNode(oldScript.innerHTML));\n      oldScript.parentNode.replaceChild(newScript, oldScript);\n    });\n    if (JS_MIME_TYPE in output.data) {\n      toinsert[nchildren-1].children[1].textContent = output.data[JS_MIME_TYPE];\n    }\n    output_area._hv_plot_id = id;\n    if ((window.Bokeh !== undefined) && (id in Bokeh.index)) {\n      window.PyViz.plot_index[id] = Bokeh.index[id];\n    } else {\n      window.PyViz.plot_index[id] = null;\n    }\n  } else if (output.metadata[EXEC_MIME_TYPE][\"server_id\"] !== undefined) {\n    var bk_div = document.createElement(\"div\");\n    bk_div.innerHTML = output.data[HTML_MIME_TYPE];\n    var script_attrs = bk_div.children[0].attributes;\n    for (var i = 0; i < script_attrs.length; i++) {\n      toinsert[toinsert.length - 1].childNodes[1].setAttribute(script_attrs[i].name, script_attrs[i].value);\n    }\n    // store reference to server id on output_area\n    output_area._bokeh_server_id = output.metadata[EXEC_MIME_TYPE][\"server_id\"];\n  }\n}\n\n/**\n * Handle when an output is cleared or removed\n */\nfunction handle_clear_output(event, handle) {\n  var id = handle.cell.output_area._hv_plot_id;\n  var server_id = handle.cell.output_area._bokeh_server_id;\n  if (((id === undefined) || !(id in PyViz.plot_index)) && (server_id !== undefined)) { return; }\n  var comm = window.PyViz.comm_manager.get_client_comm(\"hv-extension-comm\", \"hv-extension-comm\", function () {});\n  if (server_id !== null) {\n    comm.send({event_type: 'server_delete', 'id': server_id});\n    return;\n  } else if (comm !== null) {\n    comm.send({event_type: 'delete', 'id': id});\n  }\n  delete PyViz.plot_index[id];\n  if ((window.Bokeh !== undefined) & (id in window.Bokeh.index)) {\n    var doc = window.Bokeh.index[id].model.document\n    doc.clear();\n    const i = window.Bokeh.documents.indexOf(doc);\n    if (i > -1) {\n      window.Bokeh.documents.splice(i, 1);\n    }\n  }\n}\n\n/**\n * Handle kernel restart event\n */\nfunction handle_kernel_cleanup(event, handle) {\n  delete PyViz.comms[\"hv-extension-comm\"];\n  window.PyViz.plot_index = {}\n}\n\n/**\n * Handle update_display_data messages\n */\nfunction handle_update_output(event, handle) {\n  handle_clear_output(event, {cell: {output_area: handle.output_area}})\n  handle_add_output(event, handle)\n}\n\nfunction register_renderer(events, OutputArea) {\n  function append_mime(data, metadata, element) {\n    // create a DOM node to render to\n    var toinsert = this.create_output_subarea(\n    metadata,\n    CLASS_NAME,\n    EXEC_MIME_TYPE\n    );\n    this.keyboard_manager.register_events(toinsert);\n    // Render to node\n    var props = {data: data, metadata: metadata[EXEC_MIME_TYPE]};\n    render(props, toinsert[0]);\n    element.append(toinsert);\n    return toinsert\n  }\n\n  events.on('output_added.OutputArea', handle_add_output);\n  events.on('output_updated.OutputArea', handle_update_output);\n  events.on('clear_output.CodeCell', handle_clear_output);\n  events.on('delete.Cell', handle_clear_output);\n  events.on('kernel_ready.Kernel', handle_kernel_cleanup);\n\n  OutputArea.prototype.register_mime_type(EXEC_MIME_TYPE, append_mime, {\n    safe: true,\n    index: 0\n  });\n}\n\nif (window.Jupyter !== undefined) {\n  try {\n    var events = require('base/js/events');\n    var OutputArea = require('notebook/js/outputarea').OutputArea;\n    if (OutputArea.prototype.mime_types().indexOf(EXEC_MIME_TYPE) == -1) {\n      register_renderer(events, OutputArea);\n    }\n  } catch(err) {\n  }\n}\n",
      "application/vnd.holoviews_load.v0+json": ""
     },
     "metadata": {},
     "output_type": "display_data"
    },
    {
     "data": {
      "text/html": [
       "<style>*[data-root-id],\n",
       "*[data-root-id] > * {\n",
       "  box-sizing: border-box;\n",
       "  font-family: var(--jp-ui-font-family);\n",
       "  font-size: var(--jp-ui-font-size1);\n",
       "  color: var(--vscode-editor-foreground, var(--jp-ui-font-color1));\n",
       "}\n",
       "\n",
       "/* Override VSCode background color */\n",
       ".cell-output-ipywidget-background:has(\n",
       "    > .cell-output-ipywidget-background > .lm-Widget > *[data-root-id]\n",
       "  ),\n",
       ".cell-output-ipywidget-background:has(> .lm-Widget > *[data-root-id]) {\n",
       "  background-color: transparent !important;\n",
       "}\n",
       "</style>"
      ]
     },
     "metadata": {},
     "output_type": "display_data"
    },
    {
     "data": {
      "application/vnd.holoviews_exec.v0+json": "",
      "text/html": [
       "<div id='89374137-6d0a-4259-8f9b-1bee881c8d3c'>\n",
       "  <div id=\"db020ead-fe52-4bb1-b161-e78c4ac5f64a\" data-root-id=\"89374137-6d0a-4259-8f9b-1bee881c8d3c\" style=\"display: contents;\"></div>\n",
       "</div>\n",
       "<script type=\"application/javascript\">(function(root) {\n",
       "  var docs_json = {\"da3cca5c-b117-4717-84e1-fcbe232d88fa\":{\"version\":\"3.3.4\",\"title\":\"Bokeh Application\",\"roots\":[{\"type\":\"object\",\"name\":\"panel.models.browser.BrowserInfo\",\"id\":\"89374137-6d0a-4259-8f9b-1bee881c8d3c\"},{\"type\":\"object\",\"name\":\"panel.models.comm_manager.CommManager\",\"id\":\"51feb92f-7626-42c0-9e20-c6c00636d733\",\"attributes\":{\"plot_id\":\"89374137-6d0a-4259-8f9b-1bee881c8d3c\",\"comm_id\":\"ee53bf031b4544d5a6071cad943fa6dc\",\"client_comm_id\":\"c9077f5e9b174f7d9b528006bcac8329\"}}],\"defs\":[{\"type\":\"model\",\"name\":\"ReactiveHTML1\"},{\"type\":\"model\",\"name\":\"FlexBox1\",\"properties\":[{\"name\":\"align_content\",\"kind\":\"Any\",\"default\":\"flex-start\"},{\"name\":\"align_items\",\"kind\":\"Any\",\"default\":\"flex-start\"},{\"name\":\"flex_direction\",\"kind\":\"Any\",\"default\":\"row\"},{\"name\":\"flex_wrap\",\"kind\":\"Any\",\"default\":\"wrap\"},{\"name\":\"justify_content\",\"kind\":\"Any\",\"default\":\"flex-start\"}]},{\"type\":\"model\",\"name\":\"FloatPanel1\",\"properties\":[{\"name\":\"config\",\"kind\":\"Any\",\"default\":{\"type\":\"map\"}},{\"name\":\"contained\",\"kind\":\"Any\",\"default\":true},{\"name\":\"position\",\"kind\":\"Any\",\"default\":\"right-top\"},{\"name\":\"offsetx\",\"kind\":\"Any\",\"default\":null},{\"name\":\"offsety\",\"kind\":\"Any\",\"default\":null},{\"name\":\"theme\",\"kind\":\"Any\",\"default\":\"primary\"},{\"name\":\"status\",\"kind\":\"Any\",\"default\":\"normalized\"}]},{\"type\":\"model\",\"name\":\"GridStack1\",\"properties\":[{\"name\":\"mode\",\"kind\":\"Any\",\"default\":\"warn\"},{\"name\":\"ncols\",\"kind\":\"Any\",\"default\":null},{\"name\":\"nrows\",\"kind\":\"Any\",\"default\":null},{\"name\":\"allow_resize\",\"kind\":\"Any\",\"default\":true},{\"name\":\"allow_drag\",\"kind\":\"Any\",\"default\":true},{\"name\":\"state\",\"kind\":\"Any\",\"default\":[]}]},{\"type\":\"model\",\"name\":\"drag1\",\"properties\":[{\"name\":\"slider_width\",\"kind\":\"Any\",\"default\":5},{\"name\":\"slider_color\",\"kind\":\"Any\",\"default\":\"black\"},{\"name\":\"value\",\"kind\":\"Any\",\"default\":50}]},{\"type\":\"model\",\"name\":\"click1\",\"properties\":[{\"name\":\"terminal_output\",\"kind\":\"Any\",\"default\":\"\"},{\"name\":\"debug_name\",\"kind\":\"Any\",\"default\":\"\"},{\"name\":\"clears\",\"kind\":\"Any\",\"default\":0}]},{\"type\":\"model\",\"name\":\"copy_to_clipboard1\",\"properties\":[{\"name\":\"fill\",\"kind\":\"Any\",\"default\":\"none\"},{\"name\":\"value\",\"kind\":\"Any\",\"default\":null}]},{\"type\":\"model\",\"name\":\"FastWrapper1\",\"properties\":[{\"name\":\"object\",\"kind\":\"Any\",\"default\":null},{\"name\":\"style\",\"kind\":\"Any\",\"default\":null}]},{\"type\":\"model\",\"name\":\"NotificationAreaBase1\",\"properties\":[{\"name\":\"js_events\",\"kind\":\"Any\",\"default\":{\"type\":\"map\"}},{\"name\":\"position\",\"kind\":\"Any\",\"default\":\"bottom-right\"},{\"name\":\"_clear\",\"kind\":\"Any\",\"default\":0}]},{\"type\":\"model\",\"name\":\"NotificationArea1\",\"properties\":[{\"name\":\"js_events\",\"kind\":\"Any\",\"default\":{\"type\":\"map\"}},{\"name\":\"notifications\",\"kind\":\"Any\",\"default\":[]},{\"name\":\"position\",\"kind\":\"Any\",\"default\":\"bottom-right\"},{\"name\":\"_clear\",\"kind\":\"Any\",\"default\":0},{\"name\":\"types\",\"kind\":\"Any\",\"default\":[{\"type\":\"map\",\"entries\":[[\"type\",\"warning\"],[\"background\",\"#ffc107\"],[\"icon\",{\"type\":\"map\",\"entries\":[[\"className\",\"fas fa-exclamation-triangle\"],[\"tagName\",\"i\"],[\"color\",\"white\"]]}]]},{\"type\":\"map\",\"entries\":[[\"type\",\"info\"],[\"background\",\"#007bff\"],[\"icon\",{\"type\":\"map\",\"entries\":[[\"className\",\"fas fa-info-circle\"],[\"tagName\",\"i\"],[\"color\",\"white\"]]}]]}]}]},{\"type\":\"model\",\"name\":\"Notification\",\"properties\":[{\"name\":\"background\",\"kind\":\"Any\",\"default\":null},{\"name\":\"duration\",\"kind\":\"Any\",\"default\":3000},{\"name\":\"icon\",\"kind\":\"Any\",\"default\":null},{\"name\":\"message\",\"kind\":\"Any\",\"default\":\"\"},{\"name\":\"notification_type\",\"kind\":\"Any\",\"default\":null},{\"name\":\"_destroyed\",\"kind\":\"Any\",\"default\":false}]},{\"type\":\"model\",\"name\":\"TemplateActions1\",\"properties\":[{\"name\":\"open_modal\",\"kind\":\"Any\",\"default\":0},{\"name\":\"close_modal\",\"kind\":\"Any\",\"default\":0}]},{\"type\":\"model\",\"name\":\"BootstrapTemplateActions1\",\"properties\":[{\"name\":\"open_modal\",\"kind\":\"Any\",\"default\":0},{\"name\":\"close_modal\",\"kind\":\"Any\",\"default\":0}]},{\"type\":\"model\",\"name\":\"MaterialTemplateActions1\",\"properties\":[{\"name\":\"open_modal\",\"kind\":\"Any\",\"default\":0},{\"name\":\"close_modal\",\"kind\":\"Any\",\"default\":0}]}]}};\n",
       "  var render_items = [{\"docid\":\"da3cca5c-b117-4717-84e1-fcbe232d88fa\",\"roots\":{\"89374137-6d0a-4259-8f9b-1bee881c8d3c\":\"db020ead-fe52-4bb1-b161-e78c4ac5f64a\"},\"root_ids\":[\"89374137-6d0a-4259-8f9b-1bee881c8d3c\"]}];\n",
       "  var docs = Object.values(docs_json)\n",
       "  if (!docs) {\n",
       "    return\n",
       "  }\n",
       "  const py_version = docs[0].version.replace('rc', '-rc.').replace('.dev', '-dev.')\n",
       "  function embed_document(root) {\n",
       "    var Bokeh = get_bokeh(root)\n",
       "    Bokeh.embed.embed_items_notebook(docs_json, render_items);\n",
       "    for (const render_item of render_items) {\n",
       "      for (const root_id of render_item.root_ids) {\n",
       "\tconst id_el = document.getElementById(root_id)\n",
       "\tif (id_el.children.length && (id_el.children[0].className === 'bk-root')) {\n",
       "\t  const root_el = id_el.children[0]\n",
       "\t  root_el.id = root_el.id + '-rendered'\n",
       "\t}\n",
       "      }\n",
       "    }\n",
       "  }\n",
       "  function get_bokeh(root) {\n",
       "    if (root.Bokeh === undefined) {\n",
       "      return null\n",
       "    } else if (root.Bokeh.version !== py_version) {\n",
       "      if (root.Bokeh.versions === undefined || !root.Bokeh.versions.has(py_version)) {\n",
       "\treturn null\n",
       "      }\n",
       "      return root.Bokeh.versions.get(py_version);\n",
       "    } else if (root.Bokeh.version === py_version) {\n",
       "      return root.Bokeh\n",
       "    }\n",
       "    return null\n",
       "  }\n",
       "  function is_loaded(root) {\n",
       "    var Bokeh = get_bokeh(root)\n",
       "    return (Bokeh != null && Bokeh.Panel !== undefined && ( root['Tabulator'] !== undefined) && ( root['Tabulator'] !== undefined))\n",
       "  }\n",
       "  if (is_loaded(root)) {\n",
       "    embed_document(root);\n",
       "  } else {\n",
       "    var attempts = 0;\n",
       "    var timer = setInterval(function(root) {\n",
       "      if (is_loaded(root)) {\n",
       "        clearInterval(timer);\n",
       "        embed_document(root);\n",
       "      } else if (document.readyState == \"complete\") {\n",
       "        attempts++;\n",
       "        if (attempts > 200) {\n",
       "          clearInterval(timer);\n",
       "\t  var Bokeh = get_bokeh(root)\n",
       "\t  if (Bokeh == null || Bokeh.Panel == null) {\n",
       "            console.warn(\"Panel: ERROR: Unable to run Panel code because Bokeh or Panel library is missing\");\n",
       "\t  } else {\n",
       "\t    console.warn(\"Panel: WARNING: Attempting to render but not all required libraries could be resolved.\")\n",
       "\t    embed_document(root)\n",
       "\t  }\n",
       "        }\n",
       "      }\n",
       "    }, 25, root)\n",
       "  }\n",
       "})(window);</script>"
      ]
     },
     "metadata": {
      "application/vnd.holoviews_exec.v0+json": {
       "id": "89374137-6d0a-4259-8f9b-1bee881c8d3c"
      }
     },
     "output_type": "display_data"
    }
   ],
   "source": [
    "import datetime\n",
    "import requests\n",
    "import pandas as pd\n",
    "\n",
    "import bokeh.models\n",
    "import bokeh.plotting\n",
    "import panel\n",
    "\n",
    "import pathway as pw\n",
    "\n",
    "from polygon import RESTClient\n"
   ]
  },
  {
   "cell_type": "markdown",
   "metadata": {},
   "source": [
    "> ### Read and Display CSV Data\n",
    "This block reads data from a CSV file named ticker.csv into a pandas DataFrame. The index_col=0 parameter sets the first column as the index of the DataFrame. It then displays the DataFrame."
   ]
  },
  {
   "cell_type": "code",
   "execution_count": 3,
   "metadata": {},
   "outputs": [
    {
     "data": {
      "text/html": [
       "<div>\n",
       "<style scoped>\n",
       "    .dataframe tbody tr th:only-of-type {\n",
       "        vertical-align: middle;\n",
       "    }\n",
       "\n",
       "    .dataframe tbody tr th {\n",
       "        vertical-align: top;\n",
       "    }\n",
       "\n",
       "    .dataframe thead th {\n",
       "        text-align: right;\n",
       "    }\n",
       "</style>\n",
       "<table border=\"1\" class=\"dataframe\">\n",
       "  <thead>\n",
       "    <tr style=\"text-align: right;\">\n",
       "      <th></th>\n",
       "      <th>open</th>\n",
       "      <th>high</th>\n",
       "      <th>low</th>\n",
       "      <th>close</th>\n",
       "      <th>volume</th>\n",
       "      <th>vwap</th>\n",
       "      <th>t</th>\n",
       "      <th>transactions</th>\n",
       "      <th>otc</th>\n",
       "    </tr>\n",
       "    <tr>\n",
       "      <th>ticker</th>\n",
       "      <th></th>\n",
       "      <th></th>\n",
       "      <th></th>\n",
       "      <th></th>\n",
       "      <th></th>\n",
       "      <th></th>\n",
       "      <th></th>\n",
       "      <th></th>\n",
       "      <th></th>\n",
       "    </tr>\n",
       "  </thead>\n",
       "  <tbody>\n",
       "    <tr>\n",
       "      <th>AAPL</th>\n",
       "      <td>189.60</td>\n",
       "      <td>189.60</td>\n",
       "      <td>189.20</td>\n",
       "      <td>189.30</td>\n",
       "      <td>473.0</td>\n",
       "      <td>189.4087</td>\n",
       "      <td>1701075600000</td>\n",
       "      <td>23</td>\n",
       "      <td>NaN</td>\n",
       "    </tr>\n",
       "    <tr>\n",
       "      <th>AAPL</th>\n",
       "      <td>189.20</td>\n",
       "      <td>189.20</td>\n",
       "      <td>189.20</td>\n",
       "      <td>189.20</td>\n",
       "      <td>418.0</td>\n",
       "      <td>189.1945</td>\n",
       "      <td>1701075610000</td>\n",
       "      <td>7</td>\n",
       "      <td>NaN</td>\n",
       "    </tr>\n",
       "    <tr>\n",
       "      <th>AAPL</th>\n",
       "      <td>189.25</td>\n",
       "      <td>189.25</td>\n",
       "      <td>189.25</td>\n",
       "      <td>189.25</td>\n",
       "      <td>301.0</td>\n",
       "      <td>189.2500</td>\n",
       "      <td>1701075764000</td>\n",
       "      <td>2</td>\n",
       "      <td>NaN</td>\n",
       "    </tr>\n",
       "    <tr>\n",
       "      <th>AAPL</th>\n",
       "      <td>189.25</td>\n",
       "      <td>189.25</td>\n",
       "      <td>189.25</td>\n",
       "      <td>189.25</td>\n",
       "      <td>105.0</td>\n",
       "      <td>189.2500</td>\n",
       "      <td>1701075784000</td>\n",
       "      <td>2</td>\n",
       "      <td>NaN</td>\n",
       "    </tr>\n",
       "    <tr>\n",
       "      <th>AAPL</th>\n",
       "      <td>189.27</td>\n",
       "      <td>189.27</td>\n",
       "      <td>189.27</td>\n",
       "      <td>189.27</td>\n",
       "      <td>250.0</td>\n",
       "      <td>189.2758</td>\n",
       "      <td>1701076340000</td>\n",
       "      <td>3</td>\n",
       "      <td>NaN</td>\n",
       "    </tr>\n",
       "    <tr>\n",
       "      <th>...</th>\n",
       "      <td>...</td>\n",
       "      <td>...</td>\n",
       "      <td>...</td>\n",
       "      <td>...</td>\n",
       "      <td>...</td>\n",
       "      <td>...</td>\n",
       "      <td>...</td>\n",
       "      <td>...</td>\n",
       "      <td>...</td>\n",
       "    </tr>\n",
       "    <tr>\n",
       "      <th>AAPL</th>\n",
       "      <td>190.15</td>\n",
       "      <td>190.15</td>\n",
       "      <td>190.10</td>\n",
       "      <td>190.10</td>\n",
       "      <td>422.0</td>\n",
       "      <td>190.1251</td>\n",
       "      <td>1701133062000</td>\n",
       "      <td>7</td>\n",
       "      <td>NaN</td>\n",
       "    </tr>\n",
       "    <tr>\n",
       "      <th>AAPL</th>\n",
       "      <td>190.09</td>\n",
       "      <td>190.09</td>\n",
       "      <td>190.09</td>\n",
       "      <td>190.09</td>\n",
       "      <td>128.0</td>\n",
       "      <td>190.0900</td>\n",
       "      <td>1701133138000</td>\n",
       "      <td>1</td>\n",
       "      <td>NaN</td>\n",
       "    </tr>\n",
       "    <tr>\n",
       "      <th>AAPL</th>\n",
       "      <td>190.03</td>\n",
       "      <td>190.03</td>\n",
       "      <td>190.03</td>\n",
       "      <td>190.03</td>\n",
       "      <td>152.0</td>\n",
       "      <td>190.0300</td>\n",
       "      <td>1701133176000</td>\n",
       "      <td>1</td>\n",
       "      <td>NaN</td>\n",
       "    </tr>\n",
       "    <tr>\n",
       "      <th>AAPL</th>\n",
       "      <td>190.15</td>\n",
       "      <td>190.15</td>\n",
       "      <td>190.15</td>\n",
       "      <td>190.15</td>\n",
       "      <td>115.0</td>\n",
       "      <td>190.1500</td>\n",
       "      <td>1701133184000</td>\n",
       "      <td>2</td>\n",
       "      <td>NaN</td>\n",
       "    </tr>\n",
       "    <tr>\n",
       "      <th>AAPL</th>\n",
       "      <td>190.15</td>\n",
       "      <td>190.15</td>\n",
       "      <td>190.15</td>\n",
       "      <td>190.15</td>\n",
       "      <td>101.0</td>\n",
       "      <td>190.1502</td>\n",
       "      <td>1701133191000</td>\n",
       "      <td>2</td>\n",
       "      <td>NaN</td>\n",
       "    </tr>\n",
       "  </tbody>\n",
       "</table>\n",
       "<p>18329 rows × 9 columns</p>\n",
       "</div>"
      ],
      "text/plain": [
       "          open    high     low   close  volume      vwap              t  \\\n",
       "ticker                                                                    \n",
       "AAPL    189.60  189.60  189.20  189.30   473.0  189.4087  1701075600000   \n",
       "AAPL    189.20  189.20  189.20  189.20   418.0  189.1945  1701075610000   \n",
       "AAPL    189.25  189.25  189.25  189.25   301.0  189.2500  1701075764000   \n",
       "AAPL    189.25  189.25  189.25  189.25   105.0  189.2500  1701075784000   \n",
       "AAPL    189.27  189.27  189.27  189.27   250.0  189.2758  1701076340000   \n",
       "...        ...     ...     ...     ...     ...       ...            ...   \n",
       "AAPL    190.15  190.15  190.10  190.10   422.0  190.1251  1701133062000   \n",
       "AAPL    190.09  190.09  190.09  190.09   128.0  190.0900  1701133138000   \n",
       "AAPL    190.03  190.03  190.03  190.03   152.0  190.0300  1701133176000   \n",
       "AAPL    190.15  190.15  190.15  190.15   115.0  190.1500  1701133184000   \n",
       "AAPL    190.15  190.15  190.15  190.15   101.0  190.1502  1701133191000   \n",
       "\n",
       "        transactions  otc  \n",
       "ticker                     \n",
       "AAPL              23  NaN  \n",
       "AAPL               7  NaN  \n",
       "AAPL               2  NaN  \n",
       "AAPL               2  NaN  \n",
       "AAPL               3  NaN  \n",
       "...              ...  ...  \n",
       "AAPL               7  NaN  \n",
       "AAPL               1  NaN  \n",
       "AAPL               1  NaN  \n",
       "AAPL               2  NaN  \n",
       "AAPL               2  NaN  \n",
       "\n",
       "[18329 rows x 9 columns]"
      ]
     },
     "execution_count": 3,
     "metadata": {},
     "output_type": "execute_result"
    }
   ],
   "source": [
    "fname = 'ticker.csv'\n",
    "df = pd.read_csv(fname, index_col=0)\n",
    "df"
   ]
  },
  {
   "cell_type": "markdown",
   "metadata": {},
   "source": [
    "> ### Data Schema and Reading with Custom Parameters\n",
    "\n",
    "Defines a schema from the CSV file using a custom library (pathway) and reads the data again with this schema. The data is read in a 'static' mode, which could mean without expecting updates or changes."
   ]
  },
  {
   "cell_type": "code",
   "execution_count": 4,
   "metadata": {},
   "outputs": [
    {
     "name": "stderr",
     "output_type": "stream",
     "text": [
      "[2024-03-07T16:31:59]:INFO:Preparing Pathway computation\n",
      "[2024-03-07T16:31:59]:INFO:CsvFilesystemReader-0: 0 entries (1 minibatch(es)) have been sent to the engine\n",
      "[2024-03-07T16:31:59]:INFO:CsvFilesystemReader-0: 18329 entries (2 minibatch(es)) have been sent to the engine\n",
      "[2024-03-07T16:31:59]:WARNING:CsvFilesystemReader-0: Closing the data source\n"
     ]
    },
    {
     "data": {
      "application/vnd.jupyter.widget-view+json": {
       "model_id": "07cb2fee3f174655905e72b916ff4bc6",
       "version_major": 2,
       "version_minor": 0
      },
      "text/plain": [
       "BokehModel(combine_events=True, render_bundle={'docs_json': {'3ee75f7d-1bc1-4579-a4d3-fd1a8760420c': {'version…"
      ]
     },
     "execution_count": 4,
     "metadata": {},
     "output_type": "execute_result"
    }
   ],
   "source": [
    "schema = pw.schema_from_csv(fname)\n",
    "data = pw.io.csv.read(fname, schema=schema, mode='static')\n",
    "data"
   ]
  },
  {
   "cell_type": "markdown",
   "metadata": {},
   "source": [
    "> ### Data Transformation\n",
    "Converts the timestamps in column 't' from milliseconds to UTC datetime format. This transformation is important for time series analysis, ensuring that time data is correctly interpreted."
   ]
  },
  {
   "cell_type": "code",
   "execution_count": 5,
   "metadata": {},
   "outputs": [
    {
     "name": "stderr",
     "output_type": "stream",
     "text": [
      "[2024-03-07T16:32:00]:INFO:Preparing Pathway computation\n",
      "[2024-03-07T16:32:00]:INFO:CsvFilesystemReader-0: 0 entries (1 minibatch(es)) have been sent to the engine\n",
      "[2024-03-07T16:32:00]:INFO:CsvFilesystemReader-0: 18329 entries (2 minibatch(es)) have been sent to the engine\n",
      "[2024-03-07T16:32:00]:WARNING:CsvFilesystemReader-0: Closing the data source\n"
     ]
    },
    {
     "data": {
      "application/vnd.jupyter.widget-view+json": {
       "model_id": "ccd2587ffd7a48ebaec3a264de7ed6a5",
       "version_major": 2,
       "version_minor": 0
      },
      "text/plain": [
       "BokehModel(combine_events=True, render_bundle={'docs_json': {'0ad3b49c-fb76-45d5-a8ba-58c4309e99fd': {'version…"
      ]
     },
     "execution_count": 5,
     "metadata": {},
     "output_type": "execute_result"
    }
   ],
   "source": [
    "data = data.with_columns(t=data.t.dt.utc_from_timestamp(unit='ms'))\n",
    "data"
   ]
  },
  {
   "cell_type": "markdown",
   "metadata": {},
   "source": [
    "> ### Visualization with Bokeh\n",
    "Defines a function vwap_history that creates a Bokeh figure to visualize the volume-weighted average price (VWAP) history. The figure uses datetime on the x-axis and VWAP on the y-axis. It then applies this visualization function to the data, sorting by column 't'."
   ]
  },
  {
   "cell_type": "code",
   "execution_count": 6,
   "metadata": {},
   "outputs": [],
   "source": [
    "def vwap_history(src):\n",
    "    fig = bokeh.plotting.figure(\n",
    "        height=400, width=800,\n",
    "        title='Volume-weighted average price',\n",
    "        x_axis_type='datetime'\n",
    "    )\n",
    "    fig.line('t', 'vwap', source=src)\n",
    "    return fig"
   ]
  },
  {
   "cell_type": "code",
   "execution_count": 7,
   "metadata": {},
   "outputs": [
    {
     "name": "stderr",
     "output_type": "stream",
     "text": [
      "[2024-03-07T16:32:00]:INFO:Preparing Pathway computation\n"
     ]
    },
    {
     "name": "stderr",
     "output_type": "stream",
     "text": [
      "[2024-03-07T16:32:00]:INFO:CsvFilesystemReader-0: 0 entries (1 minibatch(es)) have been sent to the engine\n",
      "[2024-03-07T16:32:00]:INFO:CsvFilesystemReader-0: 18329 entries (2 minibatch(es)) have been sent to the engine\n",
      "[2024-03-07T16:32:00]:WARNING:CsvFilesystemReader-0: Closing the data source\n"
     ]
    },
    {
     "data": {
      "application/vnd.jupyter.widget-view+json": {
       "model_id": "4088818133c8437899fa451bc7b70204",
       "version_major": 2,
       "version_minor": 0
      },
      "text/plain": [
       "BokehModel(combine_events=True, render_bundle={'docs_json': {'7d25000e-4233-4b1e-8733-eee794765ebd': {'version…"
      ]
     },
     "execution_count": 7,
     "metadata": {},
     "output_type": "execute_result"
    }
   ],
   "source": [
    "data.plot(vwap_history, sorting_col='t')"
   ]
  },
  {
   "cell_type": "markdown",
   "metadata": {},
   "source": [
    "## Sliding Window Analysis for Financial Data\n",
    "\n",
    "This code snippet demonstrates a sophisticated analysis on financial data by calculating various statistics over 20-minute windows that slide one minute at a time. It is tailored to process time series data for each ticker symbol, focusing on generating detailed minute-by-minute statistics.\n",
    "\n",
    "### Key Operations\n",
    "\n",
    "1. **Sliding Window Configuration**:\n",
    "   - Utilizes a sliding window approach where each window spans 20 minutes and moves forward by one minute for each calculation.\n",
    "   - This method is ideal for analyzing time series data, providing insights into short-term trends and metrics that evolve over time.\n",
    "\n",
    "2. **Data Reduction**:\n",
    "   - Aggregates data within each window to calculate total volume, transaction total, and a squared version of the transaction total.\n",
    "   - These aggregated metrics serve as the basis for more complex calculations such as VWAP and standard deviation.\n",
    "\n",
    "3. **Volume-Weighted Average Price (VWAP)**:\n",
    "   - Computes VWAP for each window, which represents the average price a security has traded at, weighted by volume.\n",
    "   - VWAP is a crucial metric for assessing the market's trend and the efficiency of trade executions.\n",
    "\n",
    "4. **VWAP Standard Deviation**:\n",
    "   - Calculates the standard deviation of VWAP, offering insights into the volatility of the price over the window.\n",
    "   - This metric helps in understanding the distribution and variability of trade prices around the VWAP.\n",
    "\n",
    "5. **Bollinger Bands**:\n",
    "   - Generates Bollinger Bands (upper and lower) using the VWAP and its standard deviation.\n",
    "   - Bollinger Bands are widely used in stock market analysis to identify overbought or oversold conditions.\n"
   ]
  },
  {
   "cell_type": "code",
   "execution_count": 8,
   "metadata": {},
   "outputs": [
    {
     "name": "stderr",
     "output_type": "stream",
     "text": [
      "[2024-03-07T16:32:02]:INFO:Preparing Pathway computation\n",
      "[2024-03-07T16:32:02]:INFO:CsvFilesystemReader-0: 0 entries (1 minibatch(es)) have been sent to the engine\n",
      "[2024-03-07T16:32:02]:INFO:CsvFilesystemReader-0: 18329 entries (2 minibatch(es)) have been sent to the engine\n",
      "[2024-03-07T16:32:02]:WARNING:CsvFilesystemReader-0: Closing the data source\n"
     ]
    },
    {
     "data": {
      "application/vnd.jupyter.widget-view+json": {
       "model_id": "8516c2da320d44b092749e6d93cd06e9",
       "version_major": 2,
       "version_minor": 0
      },
      "text/plain": [
       "BokehModel(combine_events=True, render_bundle={'docs_json': {'280a3902-1db2-4b9e-ab2b-6e4b5d1ce8d9': {'version…"
      ]
     },
     "execution_count": 8,
     "metadata": {},
     "output_type": "execute_result"
    }
   ],
   "source": [
    "minute_20_stats = (\n",
    "    data.windowby(\n",
    "        pw.this.t,\n",
    "        window=pw.temporal.sliding(\n",
    "            hop=datetime.timedelta(minutes=1),\n",
    "            duration=datetime.timedelta(minutes=20)\n",
    "        ),\n",
    "        instance=pw.this.ticker\n",
    "    )\n",
    "    .reduce(\n",
    "        ticker=pw.this._pw_instance,\n",
    "        t=pw.this._pw_window_end,\n",
    "        volume=pw.reducers.sum(pw.this.volume),\n",
    "        transact_total=pw.reducers.sum(pw.this.volume * pw.this.vwap),\n",
    "        transact_total2=pw.reducers.sum(pw.this.volume * pw.this.vwap**2)\n",
    "    )\n",
    "    .with_columns(vwap=pw.this.transact_total / pw.this.volume)\n",
    "    .with_columns(vwstd=(pw.this.transact_total2 / pw.this.volume - pw.this.vwap**2)**0.5)\n",
    "    .with_columns(\n",
    "        bollinger_upper=pw.this.vwap + 2 * pw.this.vwstd,\n",
    "        bollinger_lower=pw.this.vwap - 2 * pw.this.vwstd\n",
    "    )\n",
    ")\n",
    "minute_20_stats"
   ]
  },
  {
   "cell_type": "markdown",
   "metadata": {},
   "source": [
    "## Simplified Explanation of Calculating 1-Minute Window Statistics\n",
    "\n",
    "In this code snippet, we're focusing on analyzing financial data within 1-minute intervals for each stock ticker. The process involves segmenting the data into 1-minute blocks (or windows), then calculating key statistics within each block. Here's a breakdown of each step and what it aims to achieve:\n",
    "\n",
    "### Step 1: Creating 1-Minute Windows\n",
    "\n",
    "- **`windowby` Method**: We organize the data into 1-minute windows using a \"tumbling\" window method. Unlike sliding windows, tumbling windows do not overlap; each segment is distinct, covering exactly one minute of trading time.\n",
    "- **`instance` Parameter**: This ensures that calculations are done separately for each stock ticker, allowing for ticker-specific insights.\n",
    "\n",
    "### Step 2: Summarizing Data Within Each Window\n",
    "\n",
    "- **`reduce` Function**: This part aggregates the trading data for each 1-minute window. Two key metrics are calculated:\n",
    "  - **`volume`**: The total number of shares traded in that minute. This tells us how active the market was.\n",
    "  - **`transact_total`**: The total dollar amount traded, found by multiplying each trade's volume by the trade price (VWAP) and then summing these. It indicates the total value of transactions.\n",
    "\n",
    "### Step 3: Calculating the Volume-Weighted Average Price (VWAP)\n",
    "\n",
    "- **`with_columns` Method**: After summing up the total transaction value and volume, we calculate the VWAP for each minute.\n",
    "  - **`vwap`**: This is the ratio of `transact_total` to `volume`, providing the average price at which shares were traded, weighted by the number of shares. VWAP is crucial for understanding the market's price trend within the minute.\n",
    "\n",
    "### In Simple Terms:\n",
    "\n",
    "1. **Segment the data** into non-overlapping, 1-minute blocks for each ticker symbol.\n",
    "2. **Summarize trading activity** by calculating the total volume and value of trades within each minute.\n",
    "3. **Determine the average trading price** (VWAP) for each minute, offering a snapshot of price trends and market activity.\n",
    "\n",
    "This method allows traders and analysts to closely monitor market movements and trading patterns on a minute-by-minute basis, providing insights into short-term market dynamics.\n"
   ]
  },
  {
   "cell_type": "code",
   "execution_count": 9,
   "metadata": {},
   "outputs": [
    {
     "name": "stderr",
     "output_type": "stream",
     "text": [
      "[2024-03-07T16:32:12]:INFO:Preparing Pathway computation\n",
      "[2024-03-07T16:32:12]:INFO:CsvFilesystemReader-0: 0 entries (1 minibatch(es)) have been sent to the engine\n",
      "[2024-03-07T16:32:12]:INFO:CsvFilesystemReader-0: 18329 entries (2 minibatch(es)) have been sent to the engine\n",
      "[2024-03-07T16:32:12]:WARNING:CsvFilesystemReader-0: Closing the data source\n"
     ]
    },
    {
     "data": {
      "application/vnd.jupyter.widget-view+json": {
       "model_id": "90ceaa968a6047cc814d785e7688b2bd",
       "version_major": 2,
       "version_minor": 0
      },
      "text/plain": [
       "BokehModel(combine_events=True, render_bundle={'docs_json': {'66d3da9b-b679-4ba7-a801-e5c9c435fe8e': {'version…"
      ]
     },
     "execution_count": 9,
     "metadata": {},
     "output_type": "execute_result"
    }
   ],
   "source": [
    "minute_1_stats = (\n",
    "    data.windowby(\n",
    "        pw.this.t,\n",
    "        window=pw.temporal.tumbling(datetime.timedelta(minutes=1)),\n",
    "        instance=pw.this.ticker\n",
    "    )\n",
    "    .reduce(\n",
    "        ticker=pw.this._pw_instance,\n",
    "        t=pw.this._pw_window_end,\n",
    "        volume=pw.reducers.sum(pw.this.volume),\n",
    "        transact_total=pw.reducers.sum(pw.this.volume * pw.this.vwap)\n",
    "    )\n",
    "    .with_columns(vwap=pw.this.transact_total / pw.this.volume)\n",
    ")\n",
    "minute_1_stats"
   ]
  },
  {
   "cell_type": "markdown",
   "metadata": {},
   "source": [
    "## Combining 1-Minute and 20-Minute Statistics for Market Alerts\n",
    "\n",
    "This code snippet demonstrates how to merge two sets of financial statistics—1-minute and 20-minute interval calculations—into a comprehensive dataset. It then uses this combined data to identify potential trading alerts based on predefined criteria. Let's break down the process:\n",
    "\n",
    "### Step 1: Joining Datasets\n",
    "\n",
    "- **`join` Operation**: The 1-minute and 20-minute statistics are merged based on matching timestamps (`t`) and ticker symbols. This creates a dataset that includes both the short-term and longer-term analytics for each stock.\n",
    "\n",
    "### Step 2: Selecting Relevant Metrics\n",
    "\n",
    "- **`select` Method**: After merging, we retain all metrics from the 1-minute statistics and also include the Bollinger Bands (`bollinger_lower` and `bollinger_upper`) from the 20-minute stats. Bollinger Bands are used to identify price volatility and potential trading opportunities.\n",
    "\n",
    "### Step 3: Identifying Trading Alerts\n",
    "\n",
    "- **`is_alert` Column**: A new column is calculated to flag potential trading alerts. An alert is triggered if:\n",
    "  - The trading volume exceeds 10,000 shares, indicating significant market activity.\n",
    "  - The VWAP is either above the upper Bollinger Band (suggesting the stock may be overvalued) or below the lower Bollinger Band (indicating the stock may be undervalued).\n",
    "\n",
    "### Step 4: Determining Trading Action\n",
    "\n",
    "- **`action` Column**: Based on the alert condition, a suggested trading action is determined:\n",
    "  - If an alert is triggered and the VWAP is above the upper Bollinger Band, it suggests selling the stock (\"sell\").\n",
    "  - Conversely, if the VWAP is below the lower Bollinger Band, buying is recommended (\"buy\").\n",
    "  - If no alert condition is met, the action is to \"hold\" (represented as \"hodl\", a term popularly used in the cryptocurrency community to denote holding onto assets rather than selling).\n",
    "\n",
    "### In Simple Terms:\n",
    "\n",
    "1. **Merge the short-term and long-term analytics** for a comprehensive view of each stock.\n",
    "2. **Utilize Bollinger Bands** from the longer-term stats to assess market volatility and potential overbought or oversold conditions.\n",
    "3. **Flag significant trading opportunities** based on volume and price conditions relative to the Bollinger Bands.\n",
    "4. **Suggest actions** (buy, sell, hold) based on whether specific alert criteria are met.\n",
    "\n",
    "This approach allows traders to systematically identify and act on potential trading opportunities by leveraging both short-term movements and longer-term trends.\n"
   ]
  },
  {
   "cell_type": "code",
   "execution_count": 10,
   "metadata": {},
   "outputs": [
    {
     "name": "stderr",
     "output_type": "stream",
     "text": [
      "[2024-03-07T16:32:14]:INFO:Preparing Pathway computation\n",
      "[2024-03-07T16:32:14]:INFO:CsvFilesystemReader-0: 0 entries (1 minibatch(es)) have been sent to the engine\n",
      "[2024-03-07T16:32:14]:INFO:CsvFilesystemReader-0: 18329 entries (2 minibatch(es)) have been sent to the engine\n",
      "[2024-03-07T16:32:14]:WARNING:CsvFilesystemReader-0: Closing the data source\n"
     ]
    },
    {
     "data": {
      "application/vnd.jupyter.widget-view+json": {
       "model_id": "fc2eb134bb9d4534a5836fe0a86705ad",
       "version_major": 2,
       "version_minor": 0
      },
      "text/plain": [
       "BokehModel(combine_events=True, render_bundle={'docs_json': {'e1dcc526-453c-4ef7-8fbe-05809434e2bf': {'version…"
      ]
     },
     "execution_count": 10,
     "metadata": {},
     "output_type": "execute_result"
    }
   ],
   "source": [
    "joint_stats = (\n",
    "    minute_1_stats.join(\n",
    "        minute_20_stats, pw.left.t == pw.right.t, \n",
    "        pw.left.ticker == pw.right.ticker\n",
    "    )\n",
    "    .select(\n",
    "        *pw.left,\n",
    "        bollinger_lower = pw.right.bollinger_lower,\n",
    "        bollinger_upper=pw.right.bollinger_upper\n",
    "    )\n",
    "    .with_columns(\n",
    "        is_alert=(\n",
    "            (pw.this.volume > 10000)\n",
    "            & (\n",
    "                (pw.this.vwap > pw.this.bollinger_upper)\n",
    "                | (pw.this.vwap < pw.this.bollinger_lower)\n",
    "            )\n",
    "        )\n",
    "    )\n",
    "    .with_columns(\n",
    "        action=pw.if_else(\n",
    "            pw.this.is_alert,\n",
    "            pw.if_else(pw.this.vwap > pw.this.bollinger_upper, 'sell', 'buy'),\n",
    "            'hodl'\n",
    "        )\n",
    "    )\n",
    ")\n",
    "joint_stats"
   ]
  },
  {
   "cell_type": "markdown",
   "metadata": {},
   "source": [
    "## Filtering for Trading Alerts\n",
    "\n",
    "This code snippet focuses on extracting specific trading alerts from the combined dataset (`joint_stats`) that we previously created by merging 1-minute and 20-minute financial statistics. The goal is to isolate instances that meet our criteria for significant trading opportunities, based on volume and VWAP's relation to Bollinger Bands. Here's how it's done:\n",
    "\n",
    "### Step 1: Filtering for Alerts\n",
    "\n",
    "- **`filter` Method**: We apply a filter to the `joint_stats` dataset to keep only those records where an alert has been triggered. An alert is considered triggered if the trading volume is above 10,000 and the VWAP is significantly higher or lower than expected, indicated by its position relative to the Bollinger Bands.\n",
    "\n",
    "### Step 2: Selecting Key Information\n",
    "\n",
    "- **`select` Method**: For each record that triggers an alert, we extract only the most relevant information:\n",
    "  - **`ticker`**: The stock symbol for which the alert is generated.\n",
    "  - **`t`**: The timestamp indicating when the alert condition was met.\n",
    "  - **`vwap`**: The Volume-Weighted Average Price at the time of the alert, which signals whether the stock is potentially overvalued or undervalued.\n",
    "  - **`action`**: The suggested trading action (buy, sell, or hold) based on the alert's criteria.\n",
    "\n",
    "### The Result: A Streamlined Dataset of Alerts\n",
    "\n",
    "The `alerts` dataset now contains a concise list of moments when specific stocks present potential trading opportunities. For each alert, it provides the ticker symbol, the precise time of the alert, the current VWAP (giving context to the price level), and a suggested action to take. \n",
    "\n",
    "### In Simple Terms:\n",
    "\n",
    "1. **Isolate important moments** where the trading volume and price movement indicate a significant opportunity or risk.\n",
    "2. **Extract critical details** about these moments, including which stock is involved, when the opportunity arose, what the price was, and what action might be advisable.\n",
    "3. **Prepare a focused dataset** of alerts that can be used to make informed trading decisions quickly.\n",
    "\n",
    "This streamlined process enables traders and analysts to rapidly identify and react to key trading signals, potentially enhancing their trading strategy's effectiveness.\n"
   ]
  },
  {
   "cell_type": "code",
   "execution_count": 11,
   "metadata": {},
   "outputs": [
    {
     "name": "stderr",
     "output_type": "stream",
     "text": [
      "[2024-03-07T16:32:27]:INFO:Preparing Pathway computation\n",
      "[2024-03-07T16:32:27]:INFO:CsvFilesystemReader-0: 0 entries (1 minibatch(es)) have been sent to the engine\n",
      "[2024-03-07T16:32:27]:INFO:CsvFilesystemReader-0: 18329 entries (2 minibatch(es)) have been sent to the engine\n",
      "[2024-03-07T16:32:27]:WARNING:CsvFilesystemReader-0: Closing the data source\n"
     ]
    },
    {
     "data": {
      "application/vnd.jupyter.widget-view+json": {
       "model_id": "3d79f60a1d49423da9f6fd68442d799b",
       "version_major": 2,
       "version_minor": 0
      },
      "text/plain": [
       "BokehModel(combine_events=True, render_bundle={'docs_json': {'00aa4c4d-d315-4f80-a605-34a2ade1bc84': {'version…"
      ]
     },
     "execution_count": 11,
     "metadata": {},
     "output_type": "execute_result"
    }
   ],
   "source": [
    "alerts = (\n",
    "    joint_stats\n",
    "    .filter(pw.this.is_alert)\n",
    "    .select(pw.this.ticker, pw.this.t, pw.this.vwap, pw.this.action)\n",
    ")\n",
    "alerts"
   ]
  },
  {
   "cell_type": "markdown",
   "metadata": {},
   "source": [
    "## Visualizing Financial Data with Bollinger Bands and Trading Actions\n",
    "\n",
    "The `stats_plotter` function is designed to create an informative and interactive visualization of financial data, specifically focusing on the use of Bollinger Bands and trading actions (buy, sell, hold) over a 20-minute window. Here's a detailed breakdown of the function and its components:\n",
    "\n",
    "### Function Definition: `stats_plotter(src)`\n",
    "\n",
    "- **Input Parameter**: `src`, which should be a data source containing the necessary financial metrics, including timestamps (`t`), Volume-Weighted Average Price (VWAP), Bollinger Bands (`bollinger_lower`, `bollinger_upper`), and trading actions.\n",
    "\n",
    "### Key Components of the Visualization:\n",
    "\n",
    "1. **Action Color Mapping**:\n",
    "   - Initializes a color map for different actions, using green for \"buy\", red for \"sell\", and transparent for \"hold\". This visual cue helps users quickly identify recommended actions.\n",
    "\n",
    "2. **Bokeh Figure Configuration**:\n",
    "   - Creates a Bokeh figure with a specific height, width, and title, and sets the x-axis type to 'datetime' for appropriate handling of time series data.\n",
    "\n",
    "3. **VWAP Line Plot**:\n",
    "   - Draws a line to represent the VWAP over time, offering insights into the average price movement within the last minute.\n",
    "\n",
    "4. **Bollinger Bands Visualization**:\n",
    "   - Plots the Bollinger Bands with semi-transparent lines and fills the area between them in gray (also semi-transparent). This graphical representation helps visualize stock volatility and the expected trading range.\n",
    "\n",
    "5. **Trading Action Scatter Plot**:\n",
    "   - Adds scatter points on top of the VWAP line, colored according to the predefined actions, to pinpoint specific times where buying or selling is suggested based on the analysis.\n",
    "\n",
    "### Visualization Goal:\n",
    "\n",
    "The function culminates in a comprehensive plot that combines time series analysis with actionable trading insights. It allows traders and analysts to visually assess market trends, volatility, and potential trading opportunities based on short-term price movements and Bollinger Band indicators.\n",
    "\n",
    "### Implementation:\n",
    "\n",
    "```python\n",
    "joint_stats.plot(stats_plotter, sorting_col='t')\n"
   ]
  },
  {
   "cell_type": "code",
   "execution_count": 12,
   "metadata": {},
   "outputs": [
    {
     "name": "stderr",
     "output_type": "stream",
     "text": [
      "[2024-03-07T16:32:38]:INFO:Preparing Pathway computation\n",
      "[2024-03-07T16:32:38]:INFO:CsvFilesystemReader-0: 0 entries (1 minibatch(es)) have been sent to the engine\n",
      "[2024-03-07T16:32:38]:INFO:CsvFilesystemReader-0: 18329 entries (2 minibatch(es)) have been sent to the engine\n",
      "[2024-03-07T16:32:38]:WARNING:CsvFilesystemReader-0: Closing the data source\n"
     ]
    },
    {
     "data": {
      "application/vnd.jupyter.widget-view+json": {
       "model_id": "509856bfbcfd4faa82e6c1ba803e0da6",
       "version_major": 2,
       "version_minor": 0
      },
      "text/plain": [
       "BokehModel(combine_events=True, render_bundle={'docs_json': {'67a32899-3f4c-4d53-a710-3b428791da97': {'version…"
      ]
     },
     "execution_count": 12,
     "metadata": {},
     "output_type": "execute_result"
    }
   ],
   "source": [
    "def stats_plotter(src):\n",
    "    actions = ['buy', 'sell', 'hodl']\n",
    "    color_map = bokeh.models.CategoricalColorMapper(\n",
    "        factors=actions,\n",
    "        palette=('#00ff00', '#ff0000', '#00000000')\n",
    "    )\n",
    "\n",
    "    fig = bokeh.plotting.figure(\n",
    "        height=500, width=800,\n",
    "        title='20 minutes Bollinger bands with last 1 minute average',\n",
    "        x_axis_type='datetime'\n",
    "    )\n",
    "\n",
    "    fig.line('t', 'vwap', source=src)\n",
    "\n",
    "    fig.line('t', 'bollinger_lower', source=src, line_alpha=0.3)\n",
    "    fig.line('t', 'bollinger_upper', source=src, line_alpha=0.3)\n",
    "    fig.varea(\n",
    "        x='t',\n",
    "        y1='bollinger_lower',\n",
    "        y2='bollinger_upper',\n",
    "        fill_alpha=0.3,\n",
    "        fill_color='gray',\n",
    "        source=src,\n",
    "    )\n",
    "\n",
    "    fig.scatter(\n",
    "        't', 'vwap', size=10, marker='circle', color={'field': 'action', 'transform': color_map},\n",
    "        source=src\n",
    "    )\n",
    "\n",
    "    return fig\n",
    "\n",
    "joint_stats.plot(stats_plotter, sorting_col='t')"
   ]
  },
  {
   "cell_type": "markdown",
   "metadata": {},
   "source": [
    "## Summary\n",
    "\n",
    "### Key Highlights:\n",
    "\n",
    "- **Data Preparation**: Initiates the process with a comprehensive setup for reading and organizing financial time series data, making it amenable to detailed analysis.\n",
    "- **Statistical Analysis**: At the heart of this notebook is the utilization of Bollinger Bands and VWAP. These tools help dissect market trends and volatility, offering a nuanced understanding that is critical for successful market navigation.\n",
    "- **Alert System**: Introduces an innovative alert mechanism that flags significant trading opportunities. This system is based on meticulously analyzed volume and price movements, ensuring traders and analysts can act swiftly on potential gains.\n",
    "- **Visualization**: Leverages the power of Bokeh plots to present data in a visually engaging manner. This not only enhances the comprehension of market trends but also aids in making informed trading decisions."
   ]
  },
  {
   "cell_type": "markdown",
   "metadata": {},
   "source": [
    "## Conclusion\n",
    "> The notebook presents a holistic approach to financial market analysis, blending sophisticated statistical techniques with practical tools for real-time market evaluation. It is designed to empower traders and analysts with the knowledge and tools necessary to make informed decisions, backed by data-driven insights into market trends and movements."
   ]
  }
 ],
 "metadata": {
  "kernelspec": {
   "display_name": "Python 3",
   "language": "python",
   "name": "python3"
  },
  "language_info": {
   "codemirror_mode": {
    "name": "ipython",
    "version": 3
   },
   "file_extension": ".py",
   "mimetype": "text/x-python",
   "name": "python",
   "nbconvert_exporter": "python",
   "pygments_lexer": "ipython3",
   "version": "3.11.2"
  }
 },
 "nbformat": 4,
 "nbformat_minor": 2
}
